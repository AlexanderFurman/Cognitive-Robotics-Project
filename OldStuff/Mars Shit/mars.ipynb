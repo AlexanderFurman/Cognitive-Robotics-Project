{
 "cells": [
  {
   "cell_type": "markdown",
   "metadata": {},
   "source": [
    "To install pyRDDLGym:\n",
    "```\n",
    "conda create -n rddl python=3.7\n",
    "conda activate rddl\n",
    "pip install pyrddlgym\n",
    "```"
   ]
  },
  {
   "cell_type": "code",
   "execution_count": 2,
   "metadata": {},
   "outputs": [],
   "source": [
    "from pyRDDLGym import RDDLEnv\n",
    "from pyRDDLGym import ExampleManager\n",
    "from pyRDDLGym.Policies.Agents import RandomAgent\n",
    "\n",
    "# get the environment info\n",
    "EnvInfo = ExampleManager.GetEnvInfo('MarsRover')\n",
    "\n",
    "# set up the environment class, choose instance 0 because every example has at least one example instance\n",
    "myEnv = RDDLEnv.RDDLEnv(domain=EnvInfo.get_domain(), instance=EnvInfo.get_instance(0))\n",
    "# set up the environment visualizer\n",
    "myEnv.set_visualizer(EnvInfo.get_visualizer())\n",
    "\n",
    "# set up an aget\n",
    "agent = RandomAgent(action_space=myEnv.action_space, num_actions=myEnv.NumConcurrentActions)\n",
    "\n",
    "total_reward = 0\n",
    "state = myEnv.reset()\n",
    "for _ in range(myEnv.horizon):\n",
    "      myEnv.render()\n",
    "      next_state, reward, done, info = myEnv.step(agent.sample_action())\n",
    "      total_reward += reward\n",
    "      state = next_state\n",
    "      if done:\n",
    "            break\n",
    "\n",
    "myEnv.close()"
   ]
  }
 ],
 "metadata": {
  "kernelspec": {
   "display_name": "Python 3.7.13 ('rddl')",
   "language": "python",
   "name": "python3"
  },
  "language_info": {
   "codemirror_mode": {
    "name": "ipython",
    "version": 3
   },
   "file_extension": ".py",
   "mimetype": "text/x-python",
   "name": "python",
   "nbconvert_exporter": "python",
   "pygments_lexer": "ipython3",
   "version": "3.7.13"
  },
  "orig_nbformat": 4,
  "vscode": {
   "interpreter": {
    "hash": "3a0b3362b30ee432812ba85d22d4616dc13640546db6ddc7c2fa75be75b4cfd2"
   }
  }
 },
 "nbformat": 4,
 "nbformat_minor": 2
}
